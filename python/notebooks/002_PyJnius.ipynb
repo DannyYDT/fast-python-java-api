{
 "cells": [
  {
   "cell_type": "markdown",
   "metadata": {},
   "source": [
    "# Setup"
   ]
  },
  {
   "cell_type": "code",
   "execution_count": null,
   "metadata": {},
   "outputs": [],
   "source": [
    "import jnius_config"
   ]
  },
  {
   "cell_type": "code",
   "execution_count": null,
   "metadata": {},
   "outputs": [],
   "source": [
    "jnius_config.set_classpath(\"../../java/target/demo-python-java-api-1.0-SNAPSHOT-jar-with-dependencies.jar\")"
   ]
  },
  {
   "cell_type": "code",
   "execution_count": null,
   "metadata": {},
   "outputs": [],
   "source": [
    "import jnius\n",
    "\n",
    "import cProfile\n",
    "import time\n",
    "import pandas as pd\n",
    "import random\n",
    "\n",
    "import matplotlib.pyplot as plt\n",
    "%matplotlib inline"
   ]
  },
  {
   "cell_type": "code",
   "execution_count": null,
   "metadata": {},
   "outputs": [],
   "source": [
    "import sys \n",
    "sys.path.append('..')\n",
    "import api.demojnius"
   ]
  },
  {
   "cell_type": "code",
   "execution_count": null,
   "metadata": {},
   "outputs": [],
   "source": [
    "Simulation = jnius.autoclass('ch.dubernet.demopythonapi.simulation.Simulation')\n",
    "BenchmarkEventHandler = jnius.autoclass('ch.dubernet.demopythonapi.simulation.events.BenchmarkEventHandler')\n",
    "\n",
    "JumpEventHandler = 'ch/dubernet/demopythonapi/simulation/events/JumpEventHandler'\n",
    "SingEventHandler = 'ch/dubernet/demopythonapi/simulation/events/SingEventHandler'\n",
    "SpeakEventHandler = 'ch/dubernet/demopythonapi/simulation/events/SpeakEventHandler'"
   ]
  },
  {
   "cell_type": "code",
   "execution_count": null,
   "metadata": {},
   "outputs": [],
   "source": [
    "N_AGENTS = 100\n",
    "N_TIME_STEPS = 100\n",
    "N_TRIES = 100"
   ]
  },
  {
   "cell_type": "code",
   "execution_count": null,
   "metadata": {},
   "outputs": [],
   "source": [
    "class Stopwatch:\n",
    "    def __init__(self):\n",
    "        self._records = []\n",
    "    \n",
    "    def start(self):\n",
    "        self._start_time = time.time()\n",
    "        \n",
    "    def end(self, **attributes):\n",
    "        t = time.time()\n",
    "        self._records.append({**attributes, \"time\": t - self._start_time})\n",
    "    \n",
    "    def to_frame(self):\n",
    "        return pd.DataFrame.from_records(self._records)\n",
    "\n",
    "stopwatch = Stopwatch()"
   ]
  },
  {
   "cell_type": "markdown",
   "metadata": {},
   "source": [
    "# Run using Java only"
   ]
  },
  {
   "cell_type": "code",
   "execution_count": 7,
   "metadata": {},
   "outputs": [
    {
     "name": "stdout",
     "output_type": "stream",
     "text": [
      "0.003193657398223877\n",
      "         21 function calls in 0.001 seconds\n",
      "\n",
      "   Ordered by: standard name\n",
      "\n",
      "   ncalls  tottime  percall  cumtime  percall filename:lineno(function)\n",
      "        1    0.001    0.001    0.001    0.001 <ipython-input-7-5ba06c0e9284>:13(<module>)\n",
      "        1    0.000    0.000    0.000    0.000 <ipython-input-7-5ba06c0e9284>:14(<module>)\n",
      "        2    0.000    0.000    0.000    0.000 codeop.py:132(__call__)\n",
      "        2    0.000    0.000    0.000    0.000 hooks.py:142(__call__)\n",
      "        2    0.000    0.000    0.000    0.000 hooks.py:207(pre_run_code_hook)\n",
      "        2    0.000    0.000    0.000    0.000 interactiveshell.py:116(<lambda>)\n",
      "        2    0.000    0.000    0.000    0.000 interactiveshell.py:1266(user_global_ns)\n",
      "        2    0.000    0.000    0.001    0.001 interactiveshell.py:3259(run_code)\n",
      "        2    0.000    0.000    0.000    0.000 ipstruct.py:125(__getattr__)\n",
      "        2    0.000    0.000    0.000    0.000 {built-in method builtins.compile}\n",
      "        2    0.000    0.000    0.001    0.001 {built-in method builtins.exec}\n",
      "        1    0.000    0.000    0.000    0.000 {method 'disable' of '_lsprof.Profiler' objects}\n",
      "\n",
      "\n"
     ]
    }
   ],
   "source": [
    "simulation = Simulation(N_AGENTS, N_TIME_STEPS)\n",
    "simulation.getEvents().addEventHandler(BenchmarkEventHandler())\n",
    "\n",
    "for i in range(N_TRIES):\n",
    "    stopwatch.start()\n",
    "    simulation.run()\n",
    "    stopwatch.end(setting=\"pure java\", n_agents=N_AGENTS, n_time_steps=N_TIME_STEPS)\n",
    "    \n",
    "print(stopwatch.to_frame().query(\"setting == \\\"pure java\\\"\").time.mean())\n",
    "\n",
    "pr = cProfile.Profile()\n",
    "pr.enable()\n",
    "simulation.run()\n",
    "pr.disable()\n",
    "pr.print_stats()"
   ]
  },
  {
   "cell_type": "markdown",
   "metadata": {},
   "source": [
    "Pretty much the same as with JPype"
   ]
  },
  {
   "cell_type": "markdown",
   "metadata": {},
   "source": [
    "# Naive Python Implementation"
   ]
  },
  {
   "cell_type": "code",
   "execution_count": 8,
   "metadata": {},
   "outputs": [
    {
     "name": "stdout",
     "output_type": "stream",
     "text": [
      "1.2619202899932862\n",
      "         210047 function calls in 1.376 seconds\n",
      "\n",
      "   Ordered by: standard name\n",
      "\n",
      "   ncalls  tottime  percall  cumtime  percall filename:lineno(function)\n",
      "    20004    0.013    0.000    0.018    0.000 <frozen importlib._bootstrap>:416(parent)\n",
      "    20004    0.008    0.000    0.028    0.000 <frozen importlib._bootstrap>:997(_handle_fromlist)\n",
      "        1    0.000    0.000    0.000    0.000 <ipython-input-8-8b91bab5ebc6>:10(notifyEnd)\n",
      "     3367    0.031    0.000    0.031    0.000 <ipython-input-8-8b91bab5ebc6>:14(handleJumpEvent)\n",
      "     3269    0.062    0.000    0.062    0.000 <ipython-input-8-8b91bab5ebc6>:21(handleSingEvent)\n",
      "     3364    0.035    0.000    0.035    0.000 <ipython-input-8-8b91bab5ebc6>:28(handleSpeakEvent)\n",
      "        1    1.069    1.069    1.376    1.376 <ipython-input-8-8b91bab5ebc6>:46(<module>)\n",
      "        1    0.000    0.000    0.000    0.000 <ipython-input-8-8b91bab5ebc6>:47(<module>)\n",
      "        1    0.000    0.000    0.000    0.000 <ipython-input-8-8b91bab5ebc6>:6(notifyStart)\n",
      "        2    0.000    0.000    0.000    0.000 codeop.py:132(__call__)\n",
      "        2    0.000    0.000    0.000    0.000 hooks.py:142(__call__)\n",
      "        2    0.000    0.000    0.000    0.000 hooks.py:207(pre_run_code_hook)\n",
      "        2    0.000    0.000    0.000    0.000 interactiveshell.py:116(<lambda>)\n",
      "        2    0.000    0.000    0.000    0.000 interactiveshell.py:1266(user_global_ns)\n",
      "        2    0.000    0.000    1.376    0.688 interactiveshell.py:3259(run_code)\n",
      "        2    0.000    0.000    0.000    0.000 ipstruct.py:125(__getattr__)\n",
      "    40004    0.104    0.000    0.133    0.000 reflect.py:110(get_signature)\n",
      "        2    0.000    0.000    0.000    0.000 {built-in method builtins.compile}\n",
      "        2    0.000    0.000    1.376    0.688 {built-in method builtins.exec}\n",
      "    20004    0.020    0.000    0.020    0.000 {built-in method builtins.hasattr}\n",
      "        1    0.000    0.000    0.000    0.000 {method 'disable' of '_lsprof.Profiler' objects}\n",
      "    20000    0.010    0.000    0.010    0.000 {method 'format' of 'str' objects}\n",
      "    40004    0.011    0.000    0.011    0.000 {method 'get' of 'dict' objects}\n",
      "    20000    0.008    0.000    0.008    0.000 {method 'replace' of 'str' objects}\n",
      "    20004    0.006    0.000    0.006    0.000 {method 'rpartition' of 'str' objects}\n",
      "\n",
      "\n"
     ]
    }
   ],
   "source": [
    "simulation = Simulation(N_AGENTS, N_TIME_STEPS)\n",
    "\n",
    "class PythonBenchmarkHandler(jnius.PythonJavaClass):\n",
    "    __javainterfaces__ = [JumpEventHandler, SingEventHandler, SpeakEventHandler]\n",
    "\n",
    "    @jnius.java_method('()V')\n",
    "    def notifyStart(self):\n",
    "        pass\n",
    "    \n",
    "    @jnius.java_method('()V')\n",
    "    def notifyEnd(self):\n",
    "        pass\n",
    "    \n",
    "    @jnius.java_method('(Lch/dubernet/demopythonapi/simulation/events/JumpEvent;)V', name='handleEvent')\n",
    "    def handleJumpEvent(self, event):\n",
    "            event.getAgentId()\n",
    "            event.getHeight_m()\n",
    "            event.getTime()\n",
    "\n",
    "            \n",
    "    @jnius.java_method('(Lch/dubernet/demopythonapi/simulation/events/SingEvent;)V', name='handleEvent')\n",
    "    def handleSingEvent(self, event):\n",
    "            event.getAgentId()\n",
    "            event.getSong()\n",
    "            event.getTime()\n",
    "\n",
    "            \n",
    "    @jnius.java_method('(Lch/dubernet/demopythonapi/simulation/events/SpeakEvent;)V', name='handleEvent')\n",
    "    def handleSpeakEvent(self, event):\n",
    "            event.getAgentId()\n",
    "            event.getMessage()\n",
    "            event.getTime()\n",
    "\n",
    "handler = PythonBenchmarkHandler()\n",
    "simulation.getEvents().addEventHandler(handler)\n",
    "\n",
    "for i in range(N_TRIES):\n",
    "    stopwatch.start()\n",
    "    simulation.run()\n",
    "    stopwatch.end(setting=\"pure python\", n_agents=N_AGENTS, n_time_steps=N_TIME_STEPS)\n",
    "    \n",
    "print(stopwatch.to_frame().query(\"setting == \\\"pure python\\\"\").time.mean())\n",
    "            \n",
    "pr = cProfile.Profile()\n",
    "pr.enable()\n",
    "simulation.run()\n",
    "pr.disable()\n",
    "pr.print_stats()"
   ]
  },
  {
   "cell_type": "markdown",
   "metadata": {},
   "source": [
    "That is roughly twice as bad as JPype... Let's see what the figure becomes once we reduce communication to the minimum."
   ]
  },
  {
   "cell_type": "markdown",
   "metadata": {},
   "source": [
    "# With Protocol Buffers"
   ]
  },
  {
   "cell_type": "code",
   "execution_count": null,
   "metadata": {},
   "outputs": [],
   "source": [
    "simulation = Simulation(N_AGENTS, N_TIME_STEPS)\n",
    "\n",
    "class PythonPbBenchmarkHandler:    \n",
    "    def handleJumpEvent(self, event):\n",
    "            event.agentId\n",
    "            event.height_m\n",
    "            event.time\n",
    "    \n",
    "    def handleSingEvent(self, event):\n",
    "            event.agentId\n",
    "            event.song\n",
    "            event.time\n",
    "            \n",
    "    def handleSpeakEvent(self, event):\n",
    "            event.agentId\n",
    "            event.text\n",
    "            event.time\n",
    "\n",
    "\n",
    "simulation.getEvents().addEventHandler(api.demojnius.create_event_handler(PythonPbBenchmarkHandler()))\n",
    "\n",
    "for i in range(N_TRIES):\n",
    "    stopwatch.start()\n",
    "    simulation.run()\n",
    "    stopwatch.end(setting=\"pb python\", n_agents=N_AGENTS, n_time_steps=N_TIME_STEPS)\n",
    "    \n",
    "print(stopwatch.to_frame().query(\"setting == \\\"pb python\\\"\").time.mean())\n",
    "            \n",
    "pr = cProfile.Profile()\n",
    "pr.enable()\n",
    "simulation.run()\n",
    "pr.disable()\n",
    "pr.print_stats()"
   ]
  },
  {
   "cell_type": "code",
   "execution_count": null,
   "metadata": {},
   "outputs": [],
   "source": []
  }
 ],
 "metadata": {
  "kernelspec": {
   "display_name": "mykernel",
   "language": "python",
   "name": "mykernel"
  },
  "language_info": {
   "codemirror_mode": {
    "name": "ipython",
    "version": 3
   },
   "file_extension": ".py",
   "mimetype": "text/x-python",
   "name": "python",
   "nbconvert_exporter": "python",
   "pygments_lexer": "ipython3",
   "version": "3.6.8"
  }
 },
 "nbformat": 4,
 "nbformat_minor": 2
}
