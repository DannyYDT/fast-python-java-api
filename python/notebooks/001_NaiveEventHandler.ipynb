{
 "cells": [
  {
   "cell_type": "markdown",
   "metadata": {},
   "source": [
    "# Setup JPype"
   ]
  },
  {
   "cell_type": "markdown",
   "metadata": {},
   "source": [
    "The following sets up JPype to be able to work with Java classes from python. First importing jpype itself.."
   ]
  },
  {
   "cell_type": "code",
   "execution_count": 1,
   "metadata": {},
   "outputs": [],
   "source": [
    "import jpype\n",
    "import jpype.imports as jimport"
   ]
  },
  {
   "cell_type": "markdown",
   "metadata": {},
   "source": [
    "Then starting the JVM with our simulation on the classpath, registering the `ch` domain as a python module, alowing python-like imports..."
   ]
  },
  {
   "cell_type": "code",
   "execution_count": 2,
   "metadata": {},
   "outputs": [],
   "source": [
    "jimport.registerDomain('ch')\n",
    "jpype.addClassPath(\"../../java/target/demo-python-java-api-1.0-SNAPSHOT.jar\")\n",
    "jpype.startJVM(jpype.get_default_jvm_path(), \"-Djava.class.path=%s\" % jpype.getClassPath())"
   ]
  },
  {
   "cell_type": "markdown",
   "metadata": {},
   "source": [
    "And finally just importing the classes we will use. We are all set!"
   ]
  },
  {
   "cell_type": "code",
   "execution_count": 3,
   "metadata": {},
   "outputs": [],
   "source": [
    "from ch.dubernet.demopythonapi.simulation import Simulation\n",
    "from ch.dubernet.demopythonapi.simulation.events import BenchmarkEventHandler, JumpEventHandler, SingEventHandler, SpeakEventHandler, JumpEvent, SingEvent, SpeakEvent"
   ]
  },
  {
   "cell_type": "markdown",
   "metadata": {},
   "source": [
    "Now just normal python modules we will use here"
   ]
  },
  {
   "cell_type": "code",
   "execution_count": 4,
   "metadata": {},
   "outputs": [],
   "source": [
    "import cProfile\n",
    "import time\n",
    "import pandas as pd"
   ]
  },
  {
   "cell_type": "markdown",
   "metadata": {},
   "source": [
    "Finish with some constants to use through the experiments"
   ]
  },
  {
   "cell_type": "code",
   "execution_count": 5,
   "metadata": {},
   "outputs": [],
   "source": [
    "N_AGENTS = 100\n",
    "N_TIME_STEPS = 100\n",
    "N_TRIES = 100"
   ]
  },
  {
   "cell_type": "markdown",
   "metadata": {},
   "source": [
    "# Utility\n",
    "\n",
    "Now define a simple stopwatch to time execution without profiler overhead. It is not the most reliable benchmarking method, but the results are so clear this should not matter ;-)"
   ]
  },
  {
   "cell_type": "code",
   "execution_count": 9,
   "metadata": {},
   "outputs": [],
   "source": [
    "class Stopwatch:\n",
    "    def __init__(self):\n",
    "        self._records = []\n",
    "    \n",
    "    def start(self):\n",
    "        self._start_time = time.time()\n",
    "        \n",
    "    def end(self, **attributes):\n",
    "        t = time.time()\n",
    "        self._records.append({**attributes, \"time\": t - self._start_time})\n",
    "    \n",
    "    def to_frame(self):\n",
    "        return pd.DataFrame.from_records(self._records)\n",
    "\n",
    "stopwatch = Stopwatch()"
   ]
  },
  {
   "cell_type": "markdown",
   "metadata": {},
   "source": [
    "# Run Using Java Classes Only"
   ]
  },
  {
   "cell_type": "markdown",
   "metadata": {},
   "source": [
    "We will now run a simulation using only classes from our Java project."
   ]
  },
  {
   "cell_type": "code",
   "execution_count": 10,
   "metadata": {},
   "outputs": [
    {
     "name": "stdout",
     "output_type": "stream",
     "text": [
      "0.001558837890625\n",
      "         27 function calls in 0.002 seconds\n",
      "\n",
      "   Ordered by: standard name\n",
      "\n",
      "   ncalls  tottime  percall  cumtime  percall filename:lineno(function)\n",
      "        1    0.002    0.002    0.002    0.002 <ipython-input-10-5ba06c0e9284>:13(<module>)\n",
      "        1    0.000    0.000    0.000    0.000 <ipython-input-10-5ba06c0e9284>:14(<module>)\n",
      "        3    0.000    0.000    0.000    0.000 _jclass.py:114(_javaGetAttr)\n",
      "        2    0.000    0.000    0.000    0.000 codeop.py:132(__call__)\n",
      "        2    0.000    0.000    0.000    0.000 hooks.py:142(__call__)\n",
      "        2    0.000    0.000    0.000    0.000 hooks.py:207(pre_run_code_hook)\n",
      "        2    0.000    0.000    0.000    0.000 interactiveshell.py:116(<lambda>)\n",
      "        2    0.000    0.000    0.000    0.000 interactiveshell.py:1266(user_global_ns)\n",
      "        2    0.000    0.000    0.002    0.001 interactiveshell.py:3259(run_code)\n",
      "        2    0.000    0.000    0.000    0.000 ipstruct.py:125(__getattr__)\n",
      "        2    0.000    0.000    0.000    0.000 {built-in method builtins.compile}\n",
      "        2    0.000    0.000    0.002    0.001 {built-in method builtins.exec}\n",
      "        3    0.000    0.000    0.000    0.000 {built-in method builtins.isinstance}\n",
      "        1    0.000    0.000    0.000    0.000 {method 'disable' of '_lsprof.Profiler' objects}\n",
      "\n",
      "\n"
     ]
    }
   ],
   "source": [
    "simulation = Simulation(N_AGENTS, N_TIME_STEPS)\n",
    "simulation.getEvents().addEventHandler(BenchmarkEventHandler())\n",
    "\n",
    "for i in range(N_TRIES):\n",
    "    stopwatch.start()\n",
    "    simulation.run()\n",
    "    stopwatch.end(setting=\"pure java\", n_agents=N_AGENTS, n_time_steps=N_TIME_STEPS)\n",
    "    \n",
    "print(stopwatch.to_frame().query(\"setting == \\\"pure java\\\"\").time.mean())\n",
    "\n",
    "pr = cProfile.Profile()\n",
    "pr.enable()\n",
    "simulation.run()\n",
    "pr.disable()\n",
    "pr.print_stats()"
   ]
  },
  {
   "cell_type": "markdown",
   "metadata": {},
   "source": [
    "# Run Using The Naive Python Implementation"
   ]
  },
  {
   "cell_type": "code",
   "execution_count": 11,
   "metadata": {},
   "outputs": [
    {
     "name": "stdout",
     "output_type": "stream",
     "text": [
      "0.44403413295745847\n",
      "         412907 function calls (402910 primitive calls) in 0.570 seconds\n",
      "\n",
      "   Ordered by: standard name\n",
      "\n",
      "   ncalls  tottime  percall  cumtime  percall filename:lineno(function)\n",
      "    10000    0.231    0.000    0.384    0.000 <ipython-input-11-99afc04f756d>:10(handleEvent)\n",
      "        1    0.000    0.000    0.000    0.000 <ipython-input-11-99afc04f756d>:4(notifyStart)\n",
      "        1    0.134    0.134    0.569    0.569 <ipython-input-11-99afc04f756d>:40(<module>)\n",
      "        1    0.000    0.000    0.000    0.000 <ipython-input-11-99afc04f756d>:41(<module>)\n",
      "        1    0.000    0.000    0.000    0.000 <ipython-input-11-99afc04f756d>:7(notifyEnd)\n",
      "    23269    0.037    0.000    0.068    0.000 _jclass.py:103(_javaInit)\n",
      "   100000    0.073    0.000    0.091    0.000 _jclass.py:114(_javaGetAttr)\n",
      "    23269    0.019    0.000    0.024    0.000 _jclass.py:127(_javaSetAttr)\n",
      "    23269    0.014    0.000    0.028    0.000 _jclass.py:78(_getClassFor)\n",
      "    10002    0.005    0.000    0.009    0.000 _jproxy.py:67(getCallable)\n",
      "        2    0.000    0.000    0.000    0.000 codeop.py:132(__call__)\n",
      "        2    0.000    0.000    0.000    0.000 hooks.py:142(__call__)\n",
      "        2    0.000    0.000    0.000    0.000 hooks.py:207(pre_run_code_hook)\n",
      "        2    0.000    0.000    0.000    0.000 interactiveshell.py:116(<lambda>)\n",
      "        2    0.000    0.000    0.000    0.000 interactiveshell.py:1266(user_global_ns)\n",
      "        2    0.000    0.000    0.569    0.285 interactiveshell.py:3259(run_code)\n",
      "        2    0.000    0.000    0.000    0.000 ipstruct.py:125(__getattr__)\n",
      "        2    0.000    0.000    0.000    0.000 {built-in method builtins.compile}\n",
      "        2    0.000    0.000    0.569    0.285 {built-in method builtins.exec}\n",
      "    10002    0.004    0.000    0.004    0.000 {built-in method builtins.getattr}\n",
      "143266/133269    0.030    0.000    0.037    0.000 {built-in method builtins.isinstance}\n",
      "    23269    0.003    0.000    0.003    0.000 {built-in method builtins.len}\n",
      "        1    0.000    0.000    0.000    0.000 {method 'disable' of '_lsprof.Profiler' objects}\n",
      "    23269    0.014    0.000    0.014    0.000 {method 'getName' of 'JavaClass' objects}\n",
      "    23269    0.005    0.000    0.005    0.000 {method 'startswith' of 'str' objects}\n",
      "\n",
      "\n"
     ]
    }
   ],
   "source": [
    "simulation = Simulation(N_AGENTS, N_TIME_STEPS)\n",
    "\n",
    "class PythonBenchmarkHandler:\n",
    "    def notifyStart(self):\n",
    "        pass\n",
    "    \n",
    "    def notifyEnd(self):\n",
    "        pass\n",
    "    \n",
    "    def handleEvent(self, event):\n",
    "        # Here we see one of the caveat of communication between a statically typed and a\n",
    "        # dynamically typed language: we need to manually perform polymorphic dispatching\n",
    "        if isinstance(event, JumpEvent):\n",
    "            event.getAgentId()\n",
    "            event.getHeight_m()\n",
    "            event.getTime()\n",
    "        elif isinstance(event, SingEvent):\n",
    "            event.getAgentId()\n",
    "            event.getSong()\n",
    "            event.getTime()\n",
    "        elif isinstance(event, SpeakEvent):\n",
    "            event.getAgentId()\n",
    "            event.getMessage()\n",
    "            event.getTime()\n",
    "        else:\n",
    "            raise Exception()\n",
    "\n",
    "handler = jpype.JProxy((JumpEventHandler, SingEventHandler, SpeakEventHandler), inst=PythonBenchmarkHandler())\n",
    "simulation.getEvents().addEventHandler(handler)\n",
    "\n",
    "for i in range(N_TRIES):\n",
    "    stopwatch.start()\n",
    "    simulation.run()\n",
    "    stopwatch.end(setting=\"pure python\", n_agents=N_AGENTS, n_time_steps=N_TIME_STEPS)\n",
    "    \n",
    "print(stopwatch.to_frame().query(\"setting == \\\"pure python\\\"\").time.mean())\n",
    "            \n",
    "pr = cProfile.Profile()\n",
    "pr.enable()\n",
    "simulation.run()\n",
    "pr.disable()\n",
    "pr.print_stats()"
   ]
  },
  {
   "cell_type": "markdown",
   "metadata": {},
   "source": [
    "Wow, that is a **MASSIVE** performance overhead!!! Two orders of magnitude slower. This is just too slow.\n",
    "\n",
    "Looking at the profiler output, you can see _lots_ of calls to JPype methods. This is where we should be able to act!"
   ]
  },
  {
   "cell_type": "code",
   "execution_count": null,
   "metadata": {},
   "outputs": [],
   "source": []
  }
 ],
 "metadata": {
  "kernelspec": {
   "display_name": "mykernel",
   "language": "python",
   "name": "mykernel"
  },
  "language_info": {
   "codemirror_mode": {
    "name": "ipython",
    "version": 3
   },
   "file_extension": ".py",
   "mimetype": "text/x-python",
   "name": "python",
   "nbconvert_exporter": "python",
   "pygments_lexer": "ipython3",
   "version": "3.6.8"
  }
 },
 "nbformat": 4,
 "nbformat_minor": 2
}
