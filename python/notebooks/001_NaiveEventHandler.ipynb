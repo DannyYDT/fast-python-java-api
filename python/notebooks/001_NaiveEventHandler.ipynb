{
 "cells": [
  {
   "cell_type": "markdown",
   "metadata": {},
   "source": [
    "# Setup JPype"
   ]
  },
  {
   "cell_type": "markdown",
   "metadata": {},
   "source": [
    "The following sets up JPype to be able to work with Java classes from python. First importing jpype itself.."
   ]
  },
  {
   "cell_type": "code",
   "execution_count": 1,
   "metadata": {},
   "outputs": [],
   "source": [
    "import sys \n",
    "sys.path.append('..')\n",
    "import api.demopythonapi"
   ]
  },
  {
   "cell_type": "code",
   "execution_count": 2,
   "metadata": {},
   "outputs": [],
   "source": [
    "import jpype"
   ]
  },
  {
   "cell_type": "code",
   "execution_count": 3,
   "metadata": {},
   "outputs": [],
   "source": [
    "from ch.dubernet.demopythonapi.simulation import Simulation\n",
    "from ch.dubernet.demopythonapi.simulation.events import BenchmarkEventHandler, JumpEventHandler, SingEventHandler, SpeakEventHandler, JumpEvent, SingEvent, SpeakEvent"
   ]
  },
  {
   "cell_type": "markdown",
   "metadata": {},
   "source": [
    "Now just normal python modules we will use here"
   ]
  },
  {
   "cell_type": "code",
   "execution_count": 4,
   "metadata": {},
   "outputs": [],
   "source": [
    "import cProfile\n",
    "import time\n",
    "import pandas as pd\n",
    "import random\n",
    "\n",
    "import matplotlib.pyplot as plt\n",
    "%matplotlib inline"
   ]
  },
  {
   "cell_type": "markdown",
   "metadata": {},
   "source": [
    "Finish with some constants to use through the experiments"
   ]
  },
  {
   "cell_type": "code",
   "execution_count": 5,
   "metadata": {},
   "outputs": [],
   "source": [
    "N_AGENTS = 100\n",
    "N_TIME_STEPS = 100\n",
    "N_TRIES = 100"
   ]
  },
  {
   "cell_type": "markdown",
   "metadata": {},
   "source": [
    "# Utility\n",
    "\n",
    "Now define a simple stopwatch to time execution without profiler overhead. It is not the most reliable benchmarking method, but the results are so clear this should not matter ;-)"
   ]
  },
  {
   "cell_type": "code",
   "execution_count": 6,
   "metadata": {},
   "outputs": [],
   "source": [
    "class Stopwatch:\n",
    "    def __init__(self):\n",
    "        self._records = []\n",
    "    \n",
    "    def start(self):\n",
    "        self._start_time = time.time()\n",
    "        \n",
    "    def end(self, **attributes):\n",
    "        t = time.time()\n",
    "        self._records.append({**attributes, \"time\": t - self._start_time})\n",
    "    \n",
    "    def to_frame(self):\n",
    "        return pd.DataFrame.from_records(self._records)\n",
    "\n",
    "stopwatch = Stopwatch()"
   ]
  },
  {
   "cell_type": "markdown",
   "metadata": {},
   "source": [
    "# Run Using Java Classes Only"
   ]
  },
  {
   "cell_type": "markdown",
   "metadata": {},
   "source": [
    "We will now run a simulation using only classes from our Java project."
   ]
  },
  {
   "cell_type": "code",
   "execution_count": 7,
   "metadata": {},
   "outputs": [
    {
     "name": "stdout",
     "output_type": "stream",
     "text": [
      "0.0021571803092956545\n",
      "         27 function calls in 0.001 seconds\n",
      "\n",
      "   Ordered by: standard name\n",
      "\n",
      "   ncalls  tottime  percall  cumtime  percall filename:lineno(function)\n",
      "        1    0.001    0.001    0.001    0.001 <ipython-input-7-5ba06c0e9284>:13(<module>)\n",
      "        1    0.000    0.000    0.000    0.000 <ipython-input-7-5ba06c0e9284>:14(<module>)\n",
      "        3    0.000    0.000    0.000    0.000 _jclass.py:114(_javaGetAttr)\n",
      "        2    0.000    0.000    0.000    0.000 codeop.py:132(__call__)\n",
      "        2    0.000    0.000    0.000    0.000 hooks.py:142(__call__)\n",
      "        2    0.000    0.000    0.000    0.000 hooks.py:207(pre_run_code_hook)\n",
      "        2    0.000    0.000    0.000    0.000 interactiveshell.py:116(<lambda>)\n",
      "        2    0.000    0.000    0.000    0.000 interactiveshell.py:1266(user_global_ns)\n",
      "        2    0.000    0.000    0.001    0.001 interactiveshell.py:3259(run_code)\n",
      "        2    0.000    0.000    0.000    0.000 ipstruct.py:125(__getattr__)\n",
      "        2    0.000    0.000    0.000    0.000 {built-in method builtins.compile}\n",
      "        2    0.000    0.000    0.001    0.001 {built-in method builtins.exec}\n",
      "        3    0.000    0.000    0.000    0.000 {built-in method builtins.isinstance}\n",
      "        1    0.000    0.000    0.000    0.000 {method 'disable' of '_lsprof.Profiler' objects}\n",
      "\n",
      "\n"
     ]
    }
   ],
   "source": [
    "simulation = Simulation(N_AGENTS, N_TIME_STEPS)\n",
    "simulation.getEvents().addEventHandler(BenchmarkEventHandler())\n",
    "\n",
    "for i in range(N_TRIES):\n",
    "    stopwatch.start()\n",
    "    simulation.run()\n",
    "    stopwatch.end(setting=\"pure java\", n_agents=N_AGENTS, n_time_steps=N_TIME_STEPS)\n",
    "    \n",
    "print(stopwatch.to_frame().query(\"setting == \\\"pure java\\\"\").time.mean())\n",
    "\n",
    "pr = cProfile.Profile()\n",
    "pr.enable()\n",
    "simulation.run()\n",
    "pr.disable()\n",
    "pr.print_stats()"
   ]
  },
  {
   "cell_type": "markdown",
   "metadata": {},
   "source": [
    "# Run Using The Naive Python Implementation"
   ]
  },
  {
   "cell_type": "code",
   "execution_count": 8,
   "metadata": {},
   "outputs": [
    {
     "name": "stdout",
     "output_type": "stream",
     "text": [
      "0.5479076290130616\n",
      "         412907 function calls (402910 primitive calls) in 0.680 seconds\n",
      "\n",
      "   Ordered by: standard name\n",
      "\n",
      "   ncalls  tottime  percall  cumtime  percall filename:lineno(function)\n",
      "    10000    0.278    0.000    0.457    0.000 <ipython-input-8-99afc04f756d>:10(handleEvent)\n",
      "        1    0.000    0.000    0.000    0.000 <ipython-input-8-99afc04f756d>:4(notifyStart)\n",
      "        1    0.160    0.160    0.680    0.680 <ipython-input-8-99afc04f756d>:40(<module>)\n",
      "        1    0.000    0.000    0.000    0.000 <ipython-input-8-99afc04f756d>:41(<module>)\n",
      "        1    0.000    0.000    0.000    0.000 <ipython-input-8-99afc04f756d>:7(notifyEnd)\n",
      "    23269    0.044    0.000    0.080    0.000 _jclass.py:103(_javaInit)\n",
      "   100000    0.083    0.000    0.105    0.000 _jclass.py:114(_javaGetAttr)\n",
      "    23269    0.022    0.000    0.028    0.000 _jclass.py:127(_javaSetAttr)\n",
      "    23269    0.018    0.000    0.036    0.000 _jclass.py:78(_getClassFor)\n",
      "    10002    0.006    0.000    0.011    0.000 _jproxy.py:67(getCallable)\n",
      "        2    0.000    0.000    0.000    0.000 codeop.py:132(__call__)\n",
      "        2    0.000    0.000    0.000    0.000 hooks.py:142(__call__)\n",
      "        2    0.000    0.000    0.000    0.000 hooks.py:207(pre_run_code_hook)\n",
      "        2    0.000    0.000    0.000    0.000 interactiveshell.py:116(<lambda>)\n",
      "        2    0.000    0.000    0.000    0.000 interactiveshell.py:1266(user_global_ns)\n",
      "        2    0.000    0.000    0.680    0.340 interactiveshell.py:3259(run_code)\n",
      "        2    0.000    0.000    0.000    0.000 ipstruct.py:125(__getattr__)\n",
      "        2    0.000    0.000    0.000    0.000 {built-in method builtins.compile}\n",
      "        2    0.000    0.000    0.680    0.340 {built-in method builtins.exec}\n",
      "    10002    0.005    0.000    0.005    0.000 {built-in method builtins.getattr}\n",
      "143266/133269    0.036    0.000    0.044    0.000 {built-in method builtins.isinstance}\n",
      "    23269    0.004    0.000    0.004    0.000 {built-in method builtins.len}\n",
      "        1    0.000    0.000    0.000    0.000 {method 'disable' of '_lsprof.Profiler' objects}\n",
      "    23269    0.018    0.000    0.018    0.000 {method 'getName' of 'JavaClass' objects}\n",
      "    23269    0.007    0.000    0.007    0.000 {method 'startswith' of 'str' objects}\n",
      "\n",
      "\n"
     ]
    }
   ],
   "source": [
    "simulation = Simulation(N_AGENTS, N_TIME_STEPS)\n",
    "\n",
    "class PythonBenchmarkHandler:\n",
    "    def notifyStart(self):\n",
    "        pass\n",
    "    \n",
    "    def notifyEnd(self):\n",
    "        pass\n",
    "    \n",
    "    def handleEvent(self, event):\n",
    "        # Here we see one of the caveat of communication between a statically typed and a\n",
    "        # dynamically typed language: we need to manually perform polymorphic dispatching\n",
    "        if isinstance(event, JumpEvent):\n",
    "            event.getAgentId()\n",
    "            event.getHeight_m()\n",
    "            event.getTime()\n",
    "        elif isinstance(event, SingEvent):\n",
    "            event.getAgentId()\n",
    "            event.getSong()\n",
    "            event.getTime()\n",
    "        elif isinstance(event, SpeakEvent):\n",
    "            event.getAgentId()\n",
    "            event.getMessage()\n",
    "            event.getTime()\n",
    "        else:\n",
    "            raise Exception()\n",
    "\n",
    "handler = jpype.JProxy((JumpEventHandler, SingEventHandler, SpeakEventHandler), inst=PythonBenchmarkHandler())\n",
    "simulation.getEvents().addEventHandler(handler)\n",
    "\n",
    "for i in range(N_TRIES):\n",
    "    stopwatch.start()\n",
    "    simulation.run()\n",
    "    stopwatch.end(setting=\"pure python\", n_agents=N_AGENTS, n_time_steps=N_TIME_STEPS)\n",
    "    \n",
    "print(stopwatch.to_frame().query(\"setting == \\\"pure python\\\"\").time.mean())\n",
    "            \n",
    "pr = cProfile.Profile()\n",
    "pr.enable()\n",
    "simulation.run()\n",
    "pr.disable()\n",
    "pr.print_stats()"
   ]
  },
  {
   "cell_type": "markdown",
   "metadata": {},
   "source": [
    "Wow, that is a **MASSIVE** performance overhead!!! Two orders of magnitude slower. This is just too slow.\n",
    "\n",
    "Looking at the profiler output, you can see _lots_ of calls to JPype methods. This is where we should be able to act!\n",
    "\n",
    "Plus, that JProxy thing tends to confuse people. It would be nice to hide this behind the hood."
   ]
  },
  {
   "cell_type": "markdown",
   "metadata": {},
   "source": [
    "# Using Protocol Buffers Communication"
   ]
  },
  {
   "cell_type": "code",
   "execution_count": 9,
   "metadata": {},
   "outputs": [
    {
     "name": "stdout",
     "output_type": "stream",
     "text": [
      "0.2816161584854126\n",
      "         200035 function calls in 0.322 seconds\n",
      "\n",
      "   Ordered by: standard name\n",
      "\n",
      "   ncalls  tottime  percall  cumtime  percall filename:lineno(function)\n",
      "     3364    0.005    0.000    0.005    0.000 <ipython-input-9-9ebac8852051>:14(handleSpeakEvent)\n",
      "        1    0.137    0.137    0.322    0.322 <ipython-input-9-9ebac8852051>:31(<module>)\n",
      "        1    0.000    0.000    0.000    0.000 <ipython-input-9-9ebac8852051>:32(<module>)\n",
      "     3367    0.003    0.000    0.003    0.000 <ipython-input-9-9ebac8852051>:4(handleJumpEvent)\n",
      "     3269    0.004    0.000    0.004    0.000 <ipython-input-9-9ebac8852051>:9(handleSingEvent)\n",
      "    10000    0.011    0.000    0.034    0.000 _jarray.py:101(_jarrayInit)\n",
      "    10000    0.005    0.000    0.005    0.000 _jarray.py:157(_getClassFor)\n",
      "    10000    0.007    0.000    0.021    0.000 _jarray.py:42(__init__)\n",
      "    10000    0.005    0.000    0.013    0.000 _jarray.py:48(__len__)\n",
      "    10000    0.014    0.000    0.059    0.000 _jarray.py:54(__getitem__)\n",
      "    10000    0.006    0.000    0.022    0.000 _jarray.py:75(__getslice__)\n",
      "    10000    0.011    0.000    0.014    0.000 _jarray.py:85(__setattr__)\n",
      "        3    0.000    0.000    0.000    0.000 _jclass.py:114(_javaGetAttr)\n",
      "    10002    0.005    0.000    0.010    0.000 _jproxy.py:67(getCallable)\n",
      "        2    0.000    0.000    0.000    0.000 codeop.py:132(__call__)\n",
      "        1    0.000    0.000    0.000    0.000 demopythonapi.py:27(notifyStart)\n",
      "        1    0.000    0.000    0.000    0.000 demopythonapi.py:31(notifyEnd)\n",
      "     3367    0.011    0.000    0.044    0.000 demopythonapi.py:35(handleJumpEventMessage)\n",
      "     3269    0.011    0.000    0.044    0.000 demopythonapi.py:41(handleSingEventMessage)\n",
      "     3364    0.011    0.000    0.047    0.000 demopythonapi.py:47(handleSpeakEventMessage)\n",
      "        2    0.000    0.000    0.000    0.000 hooks.py:142(__call__)\n",
      "        2    0.000    0.000    0.000    0.000 hooks.py:207(pre_run_code_hook)\n",
      "        2    0.000    0.000    0.000    0.000 interactiveshell.py:116(<lambda>)\n",
      "        2    0.000    0.000    0.000    0.000 interactiveshell.py:1266(user_global_ns)\n",
      "        2    0.000    0.000    0.322    0.161 interactiveshell.py:3259(run_code)\n",
      "        2    0.000    0.000    0.000    0.000 ipstruct.py:125(__getattr__)\n",
      "    10000    0.008    0.000    0.008    0.000 {built-in method _jpype.getArrayLength}\n",
      "    10000    0.017    0.000    0.017    0.000 {built-in method _jpype.getArraySlice}\n",
      "        2    0.000    0.000    0.000    0.000 {built-in method builtins.compile}\n",
      "        2    0.000    0.000    0.322    0.161 {built-in method builtins.exec}\n",
      "    10002    0.004    0.000    0.004    0.000 {built-in method builtins.getattr}\n",
      "    10002    0.002    0.000    0.002    0.000 {built-in method builtins.hasattr}\n",
      "    10003    0.002    0.000    0.002    0.000 {built-in method builtins.isinstance}\n",
      "    20000    0.006    0.000    0.020    0.000 {built-in method builtins.len}\n",
      "    10000    0.031    0.000    0.031    0.000 {method 'ParseFromString' of 'google.protobuf.pyext._message.CMessage' objects}\n",
      "        1    0.000    0.000    0.000    0.000 {method 'disable' of '_lsprof.Profiler' objects}\n",
      "    10000    0.003    0.000    0.003    0.000 {method 'indices' of 'slice' objects}\n",
      "    10000    0.003    0.000    0.003    0.000 {method 'startswith' of 'str' objects}\n",
      "\n",
      "\n"
     ]
    }
   ],
   "source": [
    "simulation = Simulation(N_AGENTS, N_TIME_STEPS)\n",
    "\n",
    "class PythonPbBenchmarkHandler:    \n",
    "    def handleJumpEvent(self, event):\n",
    "            event.agentId\n",
    "            event.height_m\n",
    "            event.time\n",
    "    \n",
    "    def handleSingEvent(self, event):\n",
    "            event.agentId\n",
    "            event.song\n",
    "            event.time\n",
    "            \n",
    "    def handleSpeakEvent(self, event):\n",
    "            event.agentId\n",
    "            event.text\n",
    "            event.time\n",
    "\n",
    "\n",
    "simulation.getEvents().addEventHandler(api.demopythonapi.python_event_handler(PythonPbBenchmarkHandler()))\n",
    "\n",
    "for i in range(N_TRIES):\n",
    "    stopwatch.start()\n",
    "    simulation.run()\n",
    "    stopwatch.end(setting=\"pb python\", n_agents=N_AGENTS, n_time_steps=N_TIME_STEPS)\n",
    "    \n",
    "print(stopwatch.to_frame().query(\"setting == \\\"pb python\\\"\").time.mean())\n",
    "            \n",
    "pr = cProfile.Profile()\n",
    "pr.enable()\n",
    "simulation.run()\n",
    "pr.disable()\n",
    "pr.print_stats()"
   ]
  },
  {
   "cell_type": "markdown",
   "metadata": {},
   "source": [
    "This is 2 times faster than pure JPype. A bit better, but still extremely bad. From profiling results, not clear whether buffering could help, but it is clear that all JPype methods, that are a significant part of the time, are called once per event. Reducing this with buffering might help there."
   ]
  },
  {
   "cell_type": "markdown",
   "metadata": {},
   "source": [
    "# Using Buffered Protocol Buffers Communication"
   ]
  },
  {
   "cell_type": "code",
   "execution_count": 10,
   "metadata": {},
   "outputs": [
    {
     "name": "stdout",
     "output_type": "stream",
     "text": [
      "0.03412911653518677\n",
      "         30053 function calls in 0.039 seconds\n",
      "\n",
      "   Ordered by: standard name\n",
      "\n",
      "   ncalls  tottime  percall  cumtime  percall filename:lineno(function)\n",
      "     3364    0.002    0.000    0.002    0.000 <ipython-input-10-290191e84405>:14(handleSpeakEvent)\n",
      "        1    0.011    0.011    0.039    0.039 <ipython-input-10-290191e84405>:31(<module>)\n",
      "        1    0.000    0.000    0.000    0.000 <ipython-input-10-290191e84405>:32(<module>)\n",
      "     3367    0.001    0.000    0.001    0.000 <ipython-input-10-290191e84405>:4(handleJumpEvent)\n",
      "     3269    0.002    0.000    0.002    0.000 <ipython-input-10-290191e84405>:9(handleSingEvent)\n",
      "        1    0.000    0.000    0.000    0.000 _jarray.py:101(_jarrayInit)\n",
      "        1    0.000    0.000    0.000    0.000 _jarray.py:157(_getClassFor)\n",
      "        1    0.000    0.000    0.000    0.000 _jarray.py:42(__init__)\n",
      "        1    0.000    0.000    0.000    0.000 _jarray.py:48(__len__)\n",
      "        1    0.000    0.000    0.000    0.000 _jarray.py:54(__getitem__)\n",
      "        1    0.000    0.000    0.000    0.000 _jarray.py:75(__getslice__)\n",
      "        1    0.000    0.000    0.000    0.000 _jarray.py:85(__setattr__)\n",
      "        3    0.000    0.000    0.000    0.000 _jclass.py:114(_javaGetAttr)\n",
      "        3    0.000    0.000    0.000    0.000 _jproxy.py:67(getCallable)\n",
      "        2    0.000    0.000    0.000    0.000 codeop.py:132(__call__)\n",
      "        1    0.000    0.000    0.000    0.000 demopythonapi.py:65(notifyStart)\n",
      "        1    0.000    0.000    0.000    0.000 demopythonapi.py:69(notifyEnd)\n",
      "        1    0.012    0.012    0.028    0.028 demopythonapi.py:73(handleEventBuffer)\n",
      "        2    0.000    0.000    0.000    0.000 hooks.py:142(__call__)\n",
      "        2    0.000    0.000    0.000    0.000 hooks.py:207(pre_run_code_hook)\n",
      "        2    0.000    0.000    0.000    0.000 interactiveshell.py:116(<lambda>)\n",
      "        2    0.000    0.000    0.000    0.000 interactiveshell.py:1266(user_global_ns)\n",
      "        2    0.000    0.000    0.039    0.020 interactiveshell.py:3259(run_code)\n",
      "        2    0.000    0.000    0.000    0.000 ipstruct.py:125(__getattr__)\n",
      "        1    0.000    0.000    0.000    0.000 {built-in method _jpype.getArrayLength}\n",
      "        1    0.000    0.000    0.000    0.000 {built-in method _jpype.getArraySlice}\n",
      "        2    0.000    0.000    0.000    0.000 {built-in method builtins.compile}\n",
      "        2    0.000    0.000    0.039    0.020 {built-in method builtins.exec}\n",
      "        3    0.000    0.000    0.000    0.000 {built-in method builtins.getattr}\n",
      "    10002    0.001    0.000    0.001    0.000 {built-in method builtins.hasattr}\n",
      "        4    0.000    0.000    0.000    0.000 {built-in method builtins.isinstance}\n",
      "        2    0.000    0.000    0.000    0.000 {built-in method builtins.len}\n",
      "        1    0.007    0.007    0.007    0.007 {method 'ParseFromString' of 'google.protobuf.pyext._message.CMessage' objects}\n",
      "    10000    0.003    0.000    0.003    0.000 {method 'WhichOneof' of 'google.protobuf.pyext._message.CMessage' objects}\n",
      "        1    0.000    0.000    0.000    0.000 {method 'disable' of '_lsprof.Profiler' objects}\n",
      "        1    0.000    0.000    0.000    0.000 {method 'indices' of 'slice' objects}\n",
      "        1    0.000    0.000    0.000    0.000 {method 'startswith' of 'str' objects}\n",
      "\n",
      "\n"
     ]
    }
   ],
   "source": [
    "simulation = Simulation(N_AGENTS, N_TIME_STEPS)\n",
    "\n",
    "class PythonPbBenchmarkHandler:    \n",
    "    def handleJumpEvent(self, event):\n",
    "            event.agentId\n",
    "            event.height_m\n",
    "            event.time\n",
    "    \n",
    "    def handleSingEvent(self, event):\n",
    "            event.agentId\n",
    "            event.song\n",
    "            event.time\n",
    "            \n",
    "    def handleSpeakEvent(self, event):\n",
    "            event.agentId\n",
    "            event.text\n",
    "            event.time\n",
    "\n",
    "\n",
    "simulation.getEvents().addEventHandler(api.demopythonapi.python_buffered_event_handler(PythonPbBenchmarkHandler(), 10000))\n",
    "\n",
    "for i in range(N_TRIES):\n",
    "    stopwatch.start()\n",
    "    simulation.run()\n",
    "    stopwatch.end(setting=\"pb buffered python\", n_agents=N_AGENTS, n_time_steps=N_TIME_STEPS)\n",
    "    \n",
    "print(stopwatch.to_frame().query(\"setting == \\\"pb buffered python\\\"\").time.mean())\n",
    "            \n",
    "pr = cProfile.Profile()\n",
    "pr.enable()\n",
    "simulation.run()\n",
    "pr.disable()\n",
    "pr.print_stats()"
   ]
  },
  {
   "cell_type": "markdown",
   "metadata": {},
   "source": [
    "Muuuuuch better! \"Only\" one order of magnitude slower! Might not be _that_ bad, as this is really only the overhead. The simulation and event handling themselves would occupy a much bigger part in a \"real\" application!"
   ]
  },
  {
   "cell_type": "markdown",
   "metadata": {},
   "source": [
    "# Making it Nice With Decorators"
   ]
  },
  {
   "cell_type": "code",
   "execution_count": 11,
   "metadata": {},
   "outputs": [],
   "source": [
    "simulation = Simulation(N_AGENTS, N_TIME_STEPS)\n",
    "\n",
    "@api.demopythonapi.event_handler\n",
    "class PythonDecoratedHandler:    \n",
    "    def handleJumpEvent(self, event):\n",
    "            event.agentId\n",
    "            event.height_m\n",
    "            event.time\n",
    "    \n",
    "    def handleSingEvent(self, event):\n",
    "            event.agentId\n",
    "            event.song\n",
    "            event.time\n",
    "            \n",
    "    def handleSpeakEvent(self, event):\n",
    "            event.agentId\n",
    "            event.text\n",
    "            event.time\n",
    "\n",
    "\n",
    "simulation.getEvents().addEventHandler(PythonDecoratedHandler())\n",
    "\n",
    "simulation.run()\n",
    "\n"
   ]
  },
  {
   "cell_type": "code",
   "execution_count": 12,
   "metadata": {},
   "outputs": [],
   "source": [
    "simulation = Simulation(N_AGENTS, N_TIME_STEPS)\n",
    "\n",
    "@api.demopythonapi.buffered_event_handler(10000)\n",
    "class PythonDecoratedBufferedHandler:    \n",
    "    def handleJumpEvent(self, event):\n",
    "            event.agentId\n",
    "            event.height_m\n",
    "            event.time\n",
    "    \n",
    "    def handleSingEvent(self, event):\n",
    "            event.agentId\n",
    "            event.song\n",
    "            event.time\n",
    "            \n",
    "    def handleSpeakEvent(self, event):\n",
    "            event.agentId\n",
    "            event.text\n",
    "            event.time\n",
    "\n",
    "\n",
    "simulation.getEvents().addEventHandler(PythonDecoratedBufferedHandler())\n",
    "\n",
    "simulation.run()"
   ]
  },
  {
   "cell_type": "markdown",
   "metadata": {},
   "source": [
    "Doesn't it look sweet? All our dirty secrets nicely hidden under the hood, under a concise and expressive syntax!"
   ]
  },
  {
   "cell_type": "markdown",
   "metadata": {},
   "source": [
    "# Performance Scaling with Buffer Size"
   ]
  },
  {
   "cell_type": "code",
   "execution_count": null,
   "metadata": {},
   "outputs": [],
   "source": [
    "# Try to mitigate artifacts from garbage collection and computer use:\n",
    "# do 30 measurements for each buffer size, and do measurements in random order\n",
    "buffer_sizes = [b for b in range(1, 100, 2) for i in range(30)]\n",
    "random.shuffle(buffer_sizes)\n",
    "\n",
    "for buffer_size in buffer_sizes:\n",
    "    simulation = Simulation(N_AGENTS, N_TIME_STEPS)\n",
    "\n",
    "    @api.demopythonapi.buffered_event_handler(buffer_size)\n",
    "    class PythonDecoratedBufferedHandler:    \n",
    "        def handleJumpEvent(self, event):\n",
    "                event.agentId\n",
    "                event.height_m\n",
    "                event.time\n",
    "    \n",
    "        def handleSingEvent(self, event):\n",
    "                event.agentId\n",
    "                event.song\n",
    "                event.time\n",
    "            \n",
    "        def handleSpeakEvent(self, event):\n",
    "                event.agentId\n",
    "                event.text\n",
    "                event.time\n",
    "\n",
    "\n",
    "    simulation.getEvents().addEventHandler(PythonDecoratedBufferedHandler())\n",
    "\n",
    "    stopwatch.start()\n",
    "    simulation.run()\n",
    "    stopwatch.end(setting=\"pb buffered python scale\", n_agents=N_AGENTS, n_time_steps=N_TIME_STEPS, buffer_size=buffer_size)"
   ]
  },
  {
   "cell_type": "code",
   "execution_count": null,
   "metadata": {},
   "outputs": [],
   "source": [
    "with plt.xkcd(scale=0.7):\n",
    "    stopwatch.to_frame().query('setting == \"pb buffered python scale\" and buffer_size < 100')\\\n",
    "        .groupby('buffer_size')['time']\\\n",
    "        .mean()\\\n",
    "        .reset_index()\\\n",
    "        .sort_values('buffer_size')\\\n",
    "        .plot('buffer_size', 'time')"
   ]
  },
  {
   "cell_type": "markdown",
   "metadata": {},
   "source": [
    "Overhead goes down fairly fast with increasing buffer size, and very quickly stabilizes (remember: we generate 10000 events, so one could expect to get improvements up to that buffer size). The remaining overhead probably comes from conversion costs, and could be optimized further, for instance by making sure one only convert events that are of interest. This is a topic for another day."
   ]
  },
  {
   "cell_type": "code",
   "execution_count": null,
   "metadata": {},
   "outputs": [],
   "source": []
  }
 ],
 "metadata": {
  "kernelspec": {
   "display_name": "mykernel",
   "language": "python",
   "name": "mykernel"
  },
  "language_info": {
   "codemirror_mode": {
    "name": "ipython",
    "version": 3
   },
   "file_extension": ".py",
   "mimetype": "text/x-python",
   "name": "python",
   "nbconvert_exporter": "python",
   "pygments_lexer": "ipython3",
   "version": "3.6.8"
  }
 },
 "nbformat": 4,
 "nbformat_minor": 2
}
