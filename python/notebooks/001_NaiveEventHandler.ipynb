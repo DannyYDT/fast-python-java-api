{
 "cells": [
  {
   "cell_type": "markdown",
   "metadata": {},
   "source": [
    "# Setup JPype"
   ]
  },
  {
   "cell_type": "markdown",
   "metadata": {},
   "source": [
    "The following sets up JPype to be able to work with Java classes from python. First importing jpype itself.."
   ]
  },
  {
   "cell_type": "code",
   "execution_count": 1,
   "metadata": {},
   "outputs": [],
   "source": [
    "import sys \n",
    "sys.path.append('..')\n",
    "import api.demopythonapi"
   ]
  },
  {
   "cell_type": "code",
   "execution_count": 2,
   "metadata": {},
   "outputs": [],
   "source": [
    "import jpype"
   ]
  },
  {
   "cell_type": "code",
   "execution_count": 3,
   "metadata": {},
   "outputs": [],
   "source": [
    "from ch.dubernet.demopythonapi.simulation import Simulation\n",
    "from ch.dubernet.demopythonapi.simulation.events import BenchmarkEventHandler, JumpEventHandler, SingEventHandler, SpeakEventHandler, JumpEvent, SingEvent, SpeakEvent"
   ]
  },
  {
   "cell_type": "markdown",
   "metadata": {},
   "source": [
    "Now just normal python modules we will use here"
   ]
  },
  {
   "cell_type": "code",
   "execution_count": 4,
   "metadata": {},
   "outputs": [],
   "source": [
    "import cProfile\n",
    "import time\n",
    "import pandas as pd"
   ]
  },
  {
   "cell_type": "markdown",
   "metadata": {},
   "source": [
    "Finish with some constants to use through the experiments"
   ]
  },
  {
   "cell_type": "code",
   "execution_count": 5,
   "metadata": {},
   "outputs": [],
   "source": [
    "N_AGENTS = 100\n",
    "N_TIME_STEPS = 100\n",
    "N_TRIES = 100"
   ]
  },
  {
   "cell_type": "markdown",
   "metadata": {},
   "source": [
    "# Utility\n",
    "\n",
    "Now define a simple stopwatch to time execution without profiler overhead. It is not the most reliable benchmarking method, but the results are so clear this should not matter ;-)"
   ]
  },
  {
   "cell_type": "code",
   "execution_count": 6,
   "metadata": {},
   "outputs": [],
   "source": [
    "class Stopwatch:\n",
    "    def __init__(self):\n",
    "        self._records = []\n",
    "    \n",
    "    def start(self):\n",
    "        self._start_time = time.time()\n",
    "        \n",
    "    def end(self, **attributes):\n",
    "        t = time.time()\n",
    "        self._records.append({**attributes, \"time\": t - self._start_time})\n",
    "    \n",
    "    def to_frame(self):\n",
    "        return pd.DataFrame.from_records(self._records)\n",
    "\n",
    "stopwatch = Stopwatch()"
   ]
  },
  {
   "cell_type": "markdown",
   "metadata": {},
   "source": [
    "# Run Using Java Classes Only"
   ]
  },
  {
   "cell_type": "markdown",
   "metadata": {},
   "source": [
    "We will now run a simulation using only classes from our Java project."
   ]
  },
  {
   "cell_type": "code",
   "execution_count": 9,
   "metadata": {},
   "outputs": [
    {
     "name": "stdout",
     "output_type": "stream",
     "text": [
      "0.0024668383598327637\n",
      "         27 function calls in 0.002 seconds\n",
      "\n",
      "   Ordered by: standard name\n",
      "\n",
      "   ncalls  tottime  percall  cumtime  percall filename:lineno(function)\n",
      "        1    0.001    0.001    0.001    0.001 <ipython-input-9-5ba06c0e9284>:13(<module>)\n",
      "        1    0.000    0.000    0.000    0.000 <ipython-input-9-5ba06c0e9284>:14(<module>)\n",
      "        3    0.000    0.000    0.000    0.000 _jclass.py:114(_javaGetAttr)\n",
      "        2    0.000    0.000    0.000    0.000 codeop.py:132(__call__)\n",
      "        2    0.000    0.000    0.000    0.000 hooks.py:142(__call__)\n",
      "        2    0.000    0.000    0.000    0.000 hooks.py:207(pre_run_code_hook)\n",
      "        2    0.000    0.000    0.000    0.000 interactiveshell.py:116(<lambda>)\n",
      "        2    0.000    0.000    0.000    0.000 interactiveshell.py:1266(user_global_ns)\n",
      "        2    0.000    0.000    0.001    0.001 interactiveshell.py:3259(run_code)\n",
      "        2    0.000    0.000    0.000    0.000 ipstruct.py:125(__getattr__)\n",
      "        2    0.000    0.000    0.000    0.000 {built-in method builtins.compile}\n",
      "        2    0.000    0.000    0.001    0.001 {built-in method builtins.exec}\n",
      "        3    0.000    0.000    0.000    0.000 {built-in method builtins.isinstance}\n",
      "        1    0.000    0.000    0.000    0.000 {method 'disable' of '_lsprof.Profiler' objects}\n",
      "\n",
      "\n"
     ]
    }
   ],
   "source": [
    "simulation = Simulation(N_AGENTS, N_TIME_STEPS)\n",
    "simulation.getEvents().addEventHandler(BenchmarkEventHandler())\n",
    "\n",
    "for i in range(N_TRIES):\n",
    "    stopwatch.start()\n",
    "    simulation.run()\n",
    "    stopwatch.end(setting=\"pure java\", n_agents=N_AGENTS, n_time_steps=N_TIME_STEPS)\n",
    "    \n",
    "print(stopwatch.to_frame().query(\"setting == \\\"pure java\\\"\").time.mean())\n",
    "\n",
    "pr = cProfile.Profile()\n",
    "pr.enable()\n",
    "simulation.run()\n",
    "pr.disable()\n",
    "pr.print_stats()"
   ]
  },
  {
   "cell_type": "markdown",
   "metadata": {},
   "source": [
    "# Run Using The Naive Python Implementation"
   ]
  },
  {
   "cell_type": "code",
   "execution_count": 13,
   "metadata": {},
   "outputs": [
    {
     "name": "stdout",
     "output_type": "stream",
     "text": [
      "0.43074836969375613\n",
      "         412907 function calls (402910 primitive calls) in 0.539 seconds\n",
      "\n",
      "   Ordered by: standard name\n",
      "\n",
      "   ncalls  tottime  percall  cumtime  percall filename:lineno(function)\n",
      "    10000    0.215    0.000    0.363    0.000 <ipython-input-13-99afc04f756d>:10(handleEvent)\n",
      "        1    0.000    0.000    0.000    0.000 <ipython-input-13-99afc04f756d>:4(notifyStart)\n",
      "        1    0.126    0.126    0.539    0.539 <ipython-input-13-99afc04f756d>:40(<module>)\n",
      "        1    0.000    0.000    0.000    0.000 <ipython-input-13-99afc04f756d>:41(<module>)\n",
      "        1    0.000    0.000    0.000    0.000 <ipython-input-13-99afc04f756d>:7(notifyEnd)\n",
      "    23269    0.037    0.000    0.067    0.000 _jclass.py:103(_javaInit)\n",
      "   100000    0.070    0.000    0.087    0.000 _jclass.py:114(_javaGetAttr)\n",
      "    23269    0.018    0.000    0.024    0.000 _jclass.py:127(_javaSetAttr)\n",
      "    23269    0.014    0.000    0.027    0.000 _jclass.py:78(_getClassFor)\n",
      "    10002    0.005    0.000    0.009    0.000 _jproxy.py:67(getCallable)\n",
      "        2    0.000    0.000    0.000    0.000 codeop.py:132(__call__)\n",
      "        2    0.000    0.000    0.000    0.000 hooks.py:142(__call__)\n",
      "        2    0.000    0.000    0.000    0.000 hooks.py:207(pre_run_code_hook)\n",
      "        2    0.000    0.000    0.000    0.000 interactiveshell.py:116(<lambda>)\n",
      "        2    0.000    0.000    0.000    0.000 interactiveshell.py:1266(user_global_ns)\n",
      "        2    0.000    0.000    0.539    0.269 interactiveshell.py:3259(run_code)\n",
      "        2    0.000    0.000    0.000    0.000 ipstruct.py:125(__getattr__)\n",
      "        2    0.000    0.000    0.000    0.000 {built-in method builtins.compile}\n",
      "        2    0.000    0.000    0.539    0.269 {built-in method builtins.exec}\n",
      "    10002    0.004    0.000    0.004    0.000 {built-in method builtins.getattr}\n",
      "143266/133269    0.029    0.000    0.036    0.000 {built-in method builtins.isinstance}\n",
      "    23269    0.003    0.000    0.003    0.000 {built-in method builtins.len}\n",
      "        1    0.000    0.000    0.000    0.000 {method 'disable' of '_lsprof.Profiler' objects}\n",
      "    23269    0.013    0.000    0.013    0.000 {method 'getName' of 'JavaClass' objects}\n",
      "    23269    0.005    0.000    0.005    0.000 {method 'startswith' of 'str' objects}\n",
      "\n",
      "\n"
     ]
    }
   ],
   "source": [
    "simulation = Simulation(N_AGENTS, N_TIME_STEPS)\n",
    "\n",
    "class PythonBenchmarkHandler:\n",
    "    def notifyStart(self):\n",
    "        pass\n",
    "    \n",
    "    def notifyEnd(self):\n",
    "        pass\n",
    "    \n",
    "    def handleEvent(self, event):\n",
    "        # Here we see one of the caveat of communication between a statically typed and a\n",
    "        # dynamically typed language: we need to manually perform polymorphic dispatching\n",
    "        if isinstance(event, JumpEvent):\n",
    "            event.getAgentId()\n",
    "            event.getHeight_m()\n",
    "            event.getTime()\n",
    "        elif isinstance(event, SingEvent):\n",
    "            event.getAgentId()\n",
    "            event.getSong()\n",
    "            event.getTime()\n",
    "        elif isinstance(event, SpeakEvent):\n",
    "            event.getAgentId()\n",
    "            event.getMessage()\n",
    "            event.getTime()\n",
    "        else:\n",
    "            raise Exception()\n",
    "\n",
    "handler = jpype.JProxy((JumpEventHandler, SingEventHandler, SpeakEventHandler), inst=PythonBenchmarkHandler())\n",
    "simulation.getEvents().addEventHandler(handler)\n",
    "\n",
    "for i in range(N_TRIES):\n",
    "    stopwatch.start()\n",
    "    simulation.run()\n",
    "    stopwatch.end(setting=\"pure python\", n_agents=N_AGENTS, n_time_steps=N_TIME_STEPS)\n",
    "    \n",
    "print(stopwatch.to_frame().query(\"setting == \\\"pure python\\\"\").time.mean())\n",
    "            \n",
    "pr = cProfile.Profile()\n",
    "pr.enable()\n",
    "simulation.run()\n",
    "pr.disable()\n",
    "pr.print_stats()"
   ]
  },
  {
   "cell_type": "markdown",
   "metadata": {},
   "source": [
    "Wow, that is a **MASSIVE** performance overhead!!! Two orders of magnitude slower. This is just too slow.\n",
    "\n",
    "Looking at the profiler output, you can see _lots_ of calls to JPype methods. This is where we should be able to act!"
   ]
  },
  {
   "cell_type": "markdown",
   "metadata": {},
   "source": [
    "# Using Protocol Buffers Communication"
   ]
  },
  {
   "cell_type": "code",
   "execution_count": 14,
   "metadata": {},
   "outputs": [
    {
     "name": "stdout",
     "output_type": "stream",
     "text": [
      "0.23935966730117797\n",
      "         200035 function calls in 0.302 seconds\n",
      "\n",
      "   Ordered by: standard name\n",
      "\n",
      "   ncalls  tottime  percall  cumtime  percall filename:lineno(function)\n",
      "     3364    0.004    0.000    0.004    0.000 <ipython-input-14-9ebac8852051>:14(handleSpeakEvent)\n",
      "        1    0.129    0.129    0.302    0.302 <ipython-input-14-9ebac8852051>:31(<module>)\n",
      "        1    0.000    0.000    0.000    0.000 <ipython-input-14-9ebac8852051>:32(<module>)\n",
      "     3367    0.003    0.000    0.003    0.000 <ipython-input-14-9ebac8852051>:4(handleJumpEvent)\n",
      "     3269    0.003    0.000    0.003    0.000 <ipython-input-14-9ebac8852051>:9(handleSingEvent)\n",
      "    10000    0.011    0.000    0.033    0.000 _jarray.py:101(_jarrayInit)\n",
      "    10000    0.005    0.000    0.005    0.000 _jarray.py:157(_getClassFor)\n",
      "    10000    0.006    0.000    0.020    0.000 _jarray.py:42(__init__)\n",
      "    10000    0.004    0.000    0.012    0.000 _jarray.py:48(__len__)\n",
      "    10000    0.013    0.000    0.054    0.000 _jarray.py:54(__getitem__)\n",
      "    10000    0.006    0.000    0.020    0.000 _jarray.py:75(__getslice__)\n",
      "    10000    0.010    0.000    0.013    0.000 _jarray.py:85(__setattr__)\n",
      "        3    0.000    0.000    0.000    0.000 _jclass.py:114(_javaGetAttr)\n",
      "    10002    0.005    0.000    0.009    0.000 _jproxy.py:67(getCallable)\n",
      "        2    0.000    0.000    0.000    0.000 codeop.py:132(__call__)\n",
      "        1    0.000    0.000    0.000    0.000 demopythonapi.py:24(notifyStart)\n",
      "        1    0.000    0.000    0.000    0.000 demopythonapi.py:28(notifyEnd)\n",
      "     3367    0.011    0.000    0.041    0.000 demopythonapi.py:32(handleJumpEventMessage)\n",
      "     3269    0.010    0.000    0.041    0.000 demopythonapi.py:38(handleSingEventMessage)\n",
      "     3364    0.011    0.000    0.044    0.000 demopythonapi.py:44(handleSpeakEventMessage)\n",
      "        2    0.000    0.000    0.000    0.000 hooks.py:142(__call__)\n",
      "        2    0.000    0.000    0.000    0.000 hooks.py:207(pre_run_code_hook)\n",
      "        2    0.000    0.000    0.000    0.000 interactiveshell.py:116(<lambda>)\n",
      "        2    0.000    0.000    0.000    0.000 interactiveshell.py:1266(user_global_ns)\n",
      "        2    0.000    0.000    0.302    0.151 interactiveshell.py:3259(run_code)\n",
      "        2    0.000    0.000    0.000    0.000 ipstruct.py:125(__getattr__)\n",
      "    10000    0.008    0.000    0.008    0.000 {built-in method _jpype.getArrayLength}\n",
      "    10000    0.015    0.000    0.015    0.000 {built-in method _jpype.getArraySlice}\n",
      "        2    0.000    0.000    0.000    0.000 {built-in method builtins.compile}\n",
      "        2    0.000    0.000    0.302    0.151 {built-in method builtins.exec}\n",
      "    10002    0.004    0.000    0.004    0.000 {built-in method builtins.getattr}\n",
      "    10002    0.002    0.000    0.002    0.000 {built-in method builtins.hasattr}\n",
      "    10003    0.002    0.000    0.002    0.000 {built-in method builtins.isinstance}\n",
      "    20000    0.006    0.000    0.018    0.000 {built-in method builtins.len}\n",
      "    10000    0.028    0.000    0.028    0.000 {method 'ParseFromString' of 'google.protobuf.pyext._message.CMessage' objects}\n",
      "        1    0.000    0.000    0.000    0.000 {method 'disable' of '_lsprof.Profiler' objects}\n",
      "    10000    0.003    0.000    0.003    0.000 {method 'indices' of 'slice' objects}\n",
      "    10000    0.003    0.000    0.003    0.000 {method 'startswith' of 'str' objects}\n",
      "\n",
      "\n"
     ]
    }
   ],
   "source": [
    "simulation = Simulation(N_AGENTS, N_TIME_STEPS)\n",
    "\n",
    "class PythonPbBenchmarkHandler:    \n",
    "    def handleJumpEvent(self, event):\n",
    "            event.agentId\n",
    "            event.height_m\n",
    "            event.time\n",
    "    \n",
    "    def handleSingEvent(self, event):\n",
    "            event.agentId\n",
    "            event.song\n",
    "            event.time\n",
    "            \n",
    "    def handleSpeakEvent(self, event):\n",
    "            event.agentId\n",
    "            event.text\n",
    "            event.time\n",
    "\n",
    "\n",
    "simulation.getEvents().addEventHandler(api.demopythonapi.python_event_handler(PythonPbBenchmarkHandler()))\n",
    "\n",
    "for i in range(N_TRIES):\n",
    "    stopwatch.start()\n",
    "    simulation.run()\n",
    "    stopwatch.end(setting=\"pb python\", n_agents=N_AGENTS, n_time_steps=N_TIME_STEPS)\n",
    "    \n",
    "print(stopwatch.to_frame().query(\"setting == \\\"pb python\\\"\").time.mean())\n",
    "            \n",
    "pr = cProfile.Profile()\n",
    "pr.enable()\n",
    "simulation.run()\n",
    "pr.disable()\n",
    "pr.print_stats()"
   ]
  },
  {
   "cell_type": "markdown",
   "metadata": {},
   "source": [
    "This is 2 times faster than pure JPype. A bit better, but still extremely bad. From profiling results, not clear whether buffering could help, but it is clear that all JPype methods, that are a significant part of the time, are called once per event. Reducing this with buffering might help there."
   ]
  },
  {
   "cell_type": "markdown",
   "metadata": {},
   "source": [
    "# Buffered"
   ]
  },
  {
   "cell_type": "code",
   "execution_count": 7,
   "metadata": {},
   "outputs": [
    {
     "name": "stdout",
     "output_type": "stream",
     "text": [
      "0.03592235088348389\n",
      "         30053 function calls in 0.045 seconds\n",
      "\n",
      "   Ordered by: standard name\n",
      "\n",
      "   ncalls  tottime  percall  cumtime  percall filename:lineno(function)\n",
      "     3364    0.002    0.000    0.002    0.000 <ipython-input-7-290191e84405>:14(handleSpeakEvent)\n",
      "        1    0.012    0.012    0.045    0.045 <ipython-input-7-290191e84405>:31(<module>)\n",
      "        1    0.000    0.000    0.000    0.000 <ipython-input-7-290191e84405>:32(<module>)\n",
      "     3367    0.002    0.000    0.002    0.000 <ipython-input-7-290191e84405>:4(handleJumpEvent)\n",
      "     3269    0.002    0.000    0.002    0.000 <ipython-input-7-290191e84405>:9(handleSingEvent)\n",
      "        1    0.000    0.000    0.000    0.000 _jarray.py:101(_jarrayInit)\n",
      "        1    0.000    0.000    0.000    0.000 _jarray.py:157(_getClassFor)\n",
      "        1    0.000    0.000    0.000    0.000 _jarray.py:42(__init__)\n",
      "        1    0.000    0.000    0.000    0.000 _jarray.py:48(__len__)\n",
      "        1    0.000    0.000    0.000    0.000 _jarray.py:54(__getitem__)\n",
      "        1    0.000    0.000    0.000    0.000 _jarray.py:75(__getslice__)\n",
      "        1    0.000    0.000    0.000    0.000 _jarray.py:85(__setattr__)\n",
      "        3    0.000    0.000    0.000    0.000 _jclass.py:114(_javaGetAttr)\n",
      "        3    0.000    0.000    0.000    0.000 _jproxy.py:67(getCallable)\n",
      "        2    0.000    0.000    0.000    0.000 codeop.py:132(__call__)\n",
      "        1    0.000    0.000    0.000    0.000 demopythonapi.py:63(notifyStart)\n",
      "        1    0.000    0.000    0.000    0.000 demopythonapi.py:67(notifyEnd)\n",
      "        1    0.014    0.014    0.033    0.033 demopythonapi.py:71(handleEventBuffer)\n",
      "        2    0.000    0.000    0.000    0.000 hooks.py:142(__call__)\n",
      "        2    0.000    0.000    0.000    0.000 hooks.py:207(pre_run_code_hook)\n",
      "        2    0.000    0.000    0.000    0.000 interactiveshell.py:116(<lambda>)\n",
      "        2    0.000    0.000    0.000    0.000 interactiveshell.py:1266(user_global_ns)\n",
      "        2    0.000    0.000    0.045    0.023 interactiveshell.py:3259(run_code)\n",
      "        2    0.000    0.000    0.000    0.000 ipstruct.py:125(__getattr__)\n",
      "        1    0.000    0.000    0.000    0.000 {built-in method _jpype.getArrayLength}\n",
      "        1    0.000    0.000    0.000    0.000 {built-in method _jpype.getArraySlice}\n",
      "        2    0.000    0.000    0.000    0.000 {built-in method builtins.compile}\n",
      "        2    0.000    0.000    0.045    0.023 {built-in method builtins.exec}\n",
      "        3    0.000    0.000    0.000    0.000 {built-in method builtins.getattr}\n",
      "    10002    0.002    0.000    0.002    0.000 {built-in method builtins.hasattr}\n",
      "        4    0.000    0.000    0.000    0.000 {built-in method builtins.isinstance}\n",
      "        2    0.000    0.000    0.000    0.000 {built-in method builtins.len}\n",
      "        1    0.008    0.008    0.008    0.008 {method 'ParseFromString' of 'google.protobuf.pyext._message.CMessage' objects}\n",
      "    10000    0.003    0.000    0.003    0.000 {method 'WhichOneof' of 'google.protobuf.pyext._message.CMessage' objects}\n",
      "        1    0.000    0.000    0.000    0.000 {method 'disable' of '_lsprof.Profiler' objects}\n",
      "        1    0.000    0.000    0.000    0.000 {method 'indices' of 'slice' objects}\n",
      "        1    0.000    0.000    0.000    0.000 {method 'startswith' of 'str' objects}\n",
      "\n",
      "\n"
     ]
    }
   ],
   "source": [
    "simulation = Simulation(N_AGENTS, N_TIME_STEPS)\n",
    "\n",
    "class PythonPbBenchmarkHandler:    \n",
    "    def handleJumpEvent(self, event):\n",
    "            event.agentId\n",
    "            event.height_m\n",
    "            event.time\n",
    "    \n",
    "    def handleSingEvent(self, event):\n",
    "            event.agentId\n",
    "            event.song\n",
    "            event.time\n",
    "            \n",
    "    def handleSpeakEvent(self, event):\n",
    "            event.agentId\n",
    "            event.text\n",
    "            event.time\n",
    "\n",
    "\n",
    "simulation.getEvents().addEventHandler(api.demopythonapi.python_buffered_event_handler(PythonPbBenchmarkHandler(), 10000))\n",
    "\n",
    "for i in range(N_TRIES):\n",
    "    stopwatch.start()\n",
    "    simulation.run()\n",
    "    stopwatch.end(setting=\"pb buffered python\", n_agents=N_AGENTS, n_time_steps=N_TIME_STEPS)\n",
    "    \n",
    "print(stopwatch.to_frame().query(\"setting == \\\"pb buffered python\\\"\").time.mean())\n",
    "            \n",
    "pr = cProfile.Profile()\n",
    "pr.enable()\n",
    "simulation.run()\n",
    "pr.disable()\n",
    "pr.print_stats()"
   ]
  },
  {
   "cell_type": "markdown",
   "metadata": {},
   "source": [
    "Muuuuuch better! \"Only\" one order of magnitude slower! Might not be _that_ bad, as this is really only the overhead. The simulation and event handling themselves would occupy a much bigger part in a \"real\" application!"
   ]
  },
  {
   "cell_type": "code",
   "execution_count": null,
   "metadata": {},
   "outputs": [],
   "source": []
  }
 ],
 "metadata": {
  "kernelspec": {
   "display_name": "mykernel",
   "language": "python",
   "name": "mykernel"
  },
  "language_info": {
   "codemirror_mode": {
    "name": "ipython",
    "version": 3
   },
   "file_extension": ".py",
   "mimetype": "text/x-python",
   "name": "python",
   "nbconvert_exporter": "python",
   "pygments_lexer": "ipython3",
   "version": "3.6.8"
  }
 },
 "nbformat": 4,
 "nbformat_minor": 2
}
